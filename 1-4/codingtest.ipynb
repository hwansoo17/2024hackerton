{
 "cells": [
  {
   "cell_type": "code",
   "execution_count": null,
   "metadata": {},
   "outputs": [
    {
     "name": "stdout",
     "output_type": "stream",
     "text": [
      "i: 1, scores[i]: 1, current_sum: 1, max_sum: 1\n",
      "i: 2, scores[i]: -3, current_sum: -2, max_sum: 1\n",
      "i: 3, scores[i]: 4, current_sum: 4, max_sum: 4\n",
      "i: 4, scores[i]: -1, current_sum: 3, max_sum: 4\n",
      "i: 5, scores[i]: 2, current_sum: 5, max_sum: 5\n",
      "i: 6, scores[i]: 1, current_sum: 6, max_sum: 6\n",
      "i: 7, scores[i]: -5, current_sum: 1, max_sum: 6\n",
      "i: 8, scores[i]: 4, current_sum: 5, max_sum: 6\n",
      "6\n",
      "1\n",
      "i: 1, scores[i]: 4, current_sum: 9, max_sum: 9\n",
      "i: 2, scores[i]: -1, current_sum: 8, max_sum: 9\n",
      "i: 3, scores[i]: 7, current_sum: 15, max_sum: 15\n",
      "i: 4, scores[i]: 8, current_sum: 23, max_sum: 23\n",
      "23\n",
      "i: 1, scores[i]: -8, current_sum: -7, max_sum: 1\n",
      "i: 2, scores[i]: 1, current_sum: 1, max_sum: 1\n",
      "i: 3, scores[i]: 1, current_sum: 2, max_sum: 2\n",
      "i: 4, scores[i]: 2, current_sum: 4, max_sum: 4\n",
      "4\n"
     ]
    }
   ],
   "source": [
    "def max_subarray_sum(scores):\n",
    "    max_sum = scores[0]\n",
    "    current_sum = scores[0]\n",
    "\n",
    "    print(f\"초기값 -> 현재 구간 합: {current_sum}, 최대 구간 합: {max_sum}\")\n",
    "\n",
    "    for i in range(1, len(scores)):\n",
    "        # 현재 값과 현재 값 + 이전 합 중 더 큰 값을 선택\n",
    "        current_sum = max(scores[i], current_sum + scores[i])\n",
    "        # 현재 합과 기존 최대값 중 더 큰 값을 선택\n",
    "        max_sum = max(max_sum, current_sum)\n",
    "        \n",
    "        print(f\"현재 인덱스 {i}, 값 {scores[i]}:\")\n",
    "        print(f\"  - 현재 값을 새로 시작할지({scores[i]}) \"\n",
    "              f\"아니면 이전 구간에 더할지({current_sum - scores[i]} + {scores[i]} = {current_sum}) 결정.\")\n",
    "        print(f\"  - 이번 단계의 현재 구간 합: {current_sum}\")\n",
    "        print(f\"  - 지금까지의 최대 구간 합: {max_sum}\\n\")\n",
    "    return max_sum\n",
    "\n",
    "# 테스트 케이스\n",
    "print(max_subarray_sum([-2, 1, -3, 4, -1, 2, 1, -5, 4]))  # 출력: 6\n",
    "print(max_subarray_sum([1]))                             # 출력: 1\n",
    "print(max_subarray_sum([5, 4, -1, 7, 8]))     \n",
    "print(max_subarray_sum([1, -8, 1, 1, 2]))               # 출력: 23\n"
   ]
  },
  {
   "cell_type": "markdown",
   "metadata": {},
   "source": []
  }
 ],
 "metadata": {
  "kernelspec": {
   "display_name": "Python 3",
   "language": "python",
   "name": "python3"
  },
  "language_info": {
   "codemirror_mode": {
    "name": "ipython",
    "version": 3
   },
   "file_extension": ".py",
   "mimetype": "text/x-python",
   "name": "python",
   "nbconvert_exporter": "python",
   "pygments_lexer": "ipython3",
   "version": "3.11.4"
  }
 },
 "nbformat": 4,
 "nbformat_minor": 2
}
