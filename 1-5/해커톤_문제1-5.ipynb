{
 "cells": [
  {
   "cell_type": "code",
   "execution_count": 58,
   "id": "01b4f684-362c-4593-84c0-e74f5adafdba",
   "metadata": {},
   "outputs": [],
   "source": [
    "from cryptography.hazmat.primitives.asymmetric import padding, rsa\n",
    "from cryptography.hazmat.primitives import serialization, hashes\n",
    "import base64"
   ]
  },
  {
   "cell_type": "code",
   "execution_count": 60,
   "id": "ea173c85-594a-4979-b79b-7e86bba7ca64",
   "metadata": {},
   "outputs": [
    {
     "name": "stdout",
     "output_type": "stream",
     "text": [
      "복호화된 메시지: 40대 이상 여성\n"
     ]
    }
   ],
   "source": [
    "#문제 1-5.1\n",
    "# private_key.pem 파일 경로\n",
    "private_key_path = 'key.pem'  \n",
    "\n",
    "#암호화 데이터 담는 변수\n",
    "encrypted_data_b64 = \"vVx4VTMrbXz9TPGaJc3OnvciWMWvpxTmRp0xg+oyo0gp+vI1Mb9Ix4jz0P8p6qFPdASUzm3pc/P7qelxdkJ1dXssS40hOR/38x5pHjd1+5uzeID4JukDGxbIfaAr0FIjjnFa1q0qsRAb0+FT/JxlZ1E409UxMvQaUXEDa4wP+U3eP045/yTuWuYjujY0Da4pU5QGzUzSzryvetRU8ondRrMSg1d4iPlj5UPhwHvTJuiRsjb/jVogYGexrCZjF+TL7jh+fKTpz1dFd5K5SYq2G+NjtlDcnrD9r/E1a3HEOn0JTTdwIDwWMi2/rvNaXGla+qtFAc0K0ry5MLhMlKvbgg==\"\n",
    "\n",
    "# 개인키 불러오기\n",
    "with open(private_key_path, 'rb') as f:\n",
    "    private_key = serialization.load_pem_private_key(\n",
    "        f.read(),\n",
    "        password=None,\n",
    "    )\n",
    "\n",
    "# 암호화된 데이터 base64에서 디코딩\n",
    "encrypted_data = base64.b64decode(encrypted_data_b64)\n",
    "\n",
    "# RSA 비밀키를 사용하여 데이터 복호화\n",
    "decrypted_data = private_key.decrypt(\n",
    "    encrypted_data,\n",
    "    padding.OAEP(\n",
    "        mgf=padding.MGF1(algorithm=hashes.SHA256()),\n",
    "        algorithm=hashes.SHA256(),\n",
    "        label=None\n",
    "    )\n",
    ")\n",
    "\n",
    "# 결과 출력\n",
    "print(\"복호화된 메시지:\", decrypted_data.decode('utf-8'))"
   ]
  },
  {
   "cell_type": "code",
   "execution_count": null,
   "id": "beea5eec-293b-4dec-92cd-d879113547bb",
   "metadata": {},
   "outputs": [],
   "source": [
    "#문제 1-5.2\n",
    "\n",
    "# 비대칭 키 암호화 방식\n",
    "# 두 개의 키인 공개 키(Public Key)와 개인 키(Private Key)를 사용해 데이터를 암호화하고 복호화하는 방식\n",
    "\n",
    "# 암호화는 공개키로만 가능 복호화는 개인키로만 가능\n",
    "# 반대로 하면 반대도 가능\n",
    "\n",
    "# 데이터를 보내는 송신자가 공개 키를 통해 암호화\n",
    "# 수신자의 개인키 아니면 복호화 불가능\n",
    "\n",
    "# 하지만 개인키가 긴 단점이 존재함\n",
    "\n",
    "# ECC(타원곡선암호화)\n",
    "\n",
    "# 256비트 키는 RSA 3072비트 키와 유사한 보안성\n",
    "# 비트가 줄어드니까, 키 보내는 속도가 빠름\n",
    "\n",
    "\n",
    "# ECC (특히 256비트로도 높은 보안성 제공)\n",
    "# 디피-헬만 (특히 ECDH)\n",
    "# 엘가말\n",
    "# 라빈\n",
    "# RSA (긴 키 필요)\n",
    "# 순으로 짧은 개인키 특성을 지님\n",
    "\n",
    "# RSA: RSA의 보안은 큰 소수를 인수분해하는 데 걸리는 시간에 기반. 더 큰 숫자를 사용할수록 보안성은 높아지지만, 키 길이도 길어짐.\n",
    "# ECC: 타원 곡선은 짧은 키에서도 안전한 보안성을 제공하기 때문에, ECC는 RSA와 비교해 키 길이 대비 효율성이 매우 높음. ECC는 복잡한 수학적 문제를 활용하므로, 비슷한 수준의 보안성을 위해 더 짧은 키를 사용해도 충분"
   ]
  },
  {
   "cell_type": "code",
   "execution_count": 42,
   "id": "9aba5480-b0f4-4c90-b7e7-f516b2b6576a",
   "metadata": {},
   "outputs": [],
   "source": [
    "from cryptography.hazmat.primitives.asymmetric import ec\n",
    "from cryptography.hazmat.primitives.kdf.hkdf import HKDF\n",
    "from cryptography.hazmat.primitives.ciphers import Cipher, algorithms, modes\n",
    "import os"
   ]
  },
  {
   "cell_type": "code",
   "execution_count": 72,
   "id": "597335b6-e9f8-4196-b271-cc059138bb68",
   "metadata": {},
   "outputs": [
    {
     "name": "stdout",
     "output_type": "stream",
     "text": [
      "암호화된 메시지(Base64): PFWj81+ZGoH4p5s3Gxf63YR+KprEC2X7IdOdziFciht1\n",
      "복호화된 메시지: 신규 고객 수\n"
     ]
    }
   ],
   "source": [
    "#문제 1-5.3\n",
    "# ECC 개인 키와 공개 키 생성\n",
    "# SECP256R1은 타원 곡선 표준화 알고리즘의 대표값으로 높은 보안성 제공함\n",
    "private_key = ec.generate_private_key(ec.SECP256R1())\n",
    "public_key = private_key.public_key()\n",
    "\n",
    "# 상대방의 공개 키 (일반적으로는 수신자의 공개 키를 사용해야 함)\n",
    "# (상대방의 키가 있다고 가정했습니다.)\n",
    "peer_private_key = ec.generate_private_key(ec.SECP256R1())\n",
    "peer_public_key = peer_private_key.public_key()\n",
    "\n",
    "# ECC를 통한 공유 비밀 키 생성 \n",
    "shared_key = private_key.exchange(ec.ECDH(), peer_public_key)\n",
    "\n",
    "# AES 대칭 키 파생 (HKDF를 사용하여 공유 키를 AES 키로 변환)\n",
    "derived_key = HKDF(\n",
    "    algorithm=hashes.SHA256(),\n",
    "    length=32,\n",
    "    salt=None,\n",
    "    info=b'handshake data'\n",
    ").derive(shared_key)\n",
    "\n",
    "# 암호화할 메시지 설정\n",
    "message = \"신규 고객 수\".encode('utf-8')\n",
    "\n",
    "# AES로 메시지 암호화\n",
    "iv = os.urandom(16)  # 초기화 벡터 생성\n",
    "cipher = Cipher(algorithms.AES(derived_key), modes.CFB(iv))\n",
    "encryptor = cipher.encryptor()\n",
    "ciphertext = encryptor.update(message) + encryptor.finalize()\n",
    "\n",
    "# 암호화된 데이터와 IV를 Base64로 인코딩하여 출력\n",
    "ciphertext_base64 = base64.b64encode(iv + ciphertext)\n",
    "print(\"암호화된 메시지(Base64):\", ciphertext_base64.decode('utf-8'))\n",
    "\n",
    "# 복호화 과정\n",
    "# AES 대칭 키로 메시지 복호화\n",
    "iv = base64.b64decode(ciphertext_base64)[:16]\n",
    "ciphertext = base64.b64decode(ciphertext_base64)[16:]\n",
    "cipher = Cipher(algorithms.AES(derived_key), modes.CFB(iv))\n",
    "decryptor = cipher.decryptor()\n",
    "decrypted_message = decryptor.update(ciphertext) + decryptor.finalize()\n",
    "\n",
    "# 복호화된 메시지 출력\n",
    "print(\"복호화된 메시지:\", decrypted_message.decode('utf-8'))\n"
   ]
  },
  {
   "cell_type": "code",
   "execution_count": null,
   "id": "8010e680-2cb3-4b38-ace8-a94898672e19",
   "metadata": {},
   "outputs": [],
   "source": []
  }
 ],
 "metadata": {
  "kernelspec": {
   "display_name": "Python 3 (ipykernel)",
   "language": "python",
   "name": "python3"
  },
  "language_info": {
   "codemirror_mode": {
    "name": "ipython",
    "version": 3
   },
   "file_extension": ".py",
   "mimetype": "text/x-python",
   "name": "python",
   "nbconvert_exporter": "python",
   "pygments_lexer": "ipython3",
   "version": "3.12.4"
  }
 },
 "nbformat": 4,
 "nbformat_minor": 5
}
